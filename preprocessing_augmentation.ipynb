{
 "cells": [
  {
   "cell_type": "markdown",
   "id": "770d9616",
   "metadata": {},
   "source": [
    "# TransitGraphAI\n",
    "This notebook contains the functions to preprocess the transportation graphs from the GTFS data that were collected from the `MobilityData/mobility-database-catalogs` GitHub repository. In a second part of this notebook, we experiment with generative models in order to eventually enrich the dataset with additional synthetic transportation networks.\n",
    "# Data preprocessing and augmentation with synthetic data\n"
   ]
  },
  {
   "cell_type": "code",
   "execution_count": null,
   "id": "69e51acd",
   "metadata": {},
   "outputs": [],
   "source": [
    "import utils.preprocessing as pp\n",
    "import utils.generative_models as gm\n",
    "import os\n",
    "import pickle as pkl\n",
    "import torch.optim as optim\n",
    "import torch"
   ]
  },
  {
   "cell_type": "markdown",
   "id": "20dd0dbe",
   "metadata": {},
   "source": [
    "## Preprocessing"
   ]
  },
  {
   "cell_type": "markdown",
   "id": "a37809e7",
   "metadata": {},
   "source": [
    "We load core GTFS tables (*stops, trips, routes, stop_times, calendar*) and filter out underspecified trips. Stops are then fused into station-level nodes using declared `parent_station` when available, or proximity-based fusion otherwise (great-circle distance with *BallTree*), while explicitly preventing the fusion of consecutive stops that appear within trips.  \n",
    "From the cleaned data, we\n",
    "1. build a directed stop connectivity graph (consecutive stops in trips)\n",
    "2. and construct a time-enriched edge table that stores departure/arrival times and durations for each hop.\n",
    "3. We also generate symmetric walking-transfer edges between fused stops using their surface distance and an assumed walking speed.\n",
    "\n",
    "The final contextual edge set (trip + transfer) supports time-dependent routing: given a start time, the earliest-arrival path is computed by expanding only feasible departures and interleaving transfers as needed.  \n",
    "This design yields a compact, station-level multimodal graph that retains GTFS temporal semantics and is suitable for RL agents or classical routing experiments.\n",
    "\n",
    "> See the `utils/preprocessing.py` docstrings for further detail about each function.\n"
   ]
  },
  {
   "cell_type": "code",
   "execution_count": null,
   "id": "cba739ca",
   "metadata": {},
   "outputs": [
    {
     "name": "stdout",
     "output_type": "stream",
     "text": [
      "Barcelona\n"
     ]
    },
    {
     "name": "stderr",
     "output_type": "stream",
     "text": [
      "/home/ttissot/Bureau/Transport_networks/utils/preprocessing.py:129: DtypeWarning: Columns (3) have mixed types. Specify dtype option on import or set low_memory=False.\n",
      "  data[ref] = pd.read_csv(path)\n"
     ]
    },
    {
     "name": "stdout",
     "output_type": "stream",
     "text": [
      "Bodensee_Oberschwaben\n"
     ]
    },
    {
     "name": "stderr",
     "output_type": "stream",
     "text": [
      "/home/ttissot/Bureau/Transport_networks/utils/preprocessing.py:129: DtypeWarning: Columns (5) have mixed types. Specify dtype option on import or set low_memory=False.\n",
      "  data[ref] = pd.read_csv(path)\n"
     ]
    },
    {
     "name": "stdout",
     "output_type": "stream",
     "text": [
      "Toulouse\n"
     ]
    },
    {
     "name": "stderr",
     "output_type": "stream",
     "text": [
      "/home/ttissot/Bureau/Transport_networks/utils/preprocessing.py:129: DtypeWarning: Columns (9) have mixed types. Specify dtype option on import or set low_memory=False.\n",
      "  data[ref] = pd.read_csv(path)\n"
     ]
    },
    {
     "name": "stdout",
     "output_type": "stream",
     "text": [
      "Hofmann_Omnibusverkehr_GmbH\n",
      "Pays_de_la_Loire\n"
     ]
    },
    {
     "name": "stderr",
     "output_type": "stream",
     "text": [
      "/home/ttissot/Bureau/Transport_networks/utils/preprocessing.py:129: DtypeWarning: Columns (25,27,29) have mixed types. Specify dtype option on import or set low_memory=False.\n",
      "  data[ref] = pd.read_csv(path)\n",
      "/home/ttissot/Bureau/Transport_networks/utils/preprocessing.py:129: DtypeWarning: Columns (5) have mixed types. Specify dtype option on import or set low_memory=False.\n",
      "  data[ref] = pd.read_csv(path)\n"
     ]
    },
    {
     "name": "stdout",
     "output_type": "stream",
     "text": [
      "Trentino\n",
      "Isère\n",
      "naldo_Verkehrsverbund\n"
     ]
    },
    {
     "name": "stderr",
     "output_type": "stream",
     "text": [
      "/home/ttissot/Bureau/Transport_networks/utils/preprocessing.py:129: DtypeWarning: Columns (5) have mixed types. Specify dtype option on import or set low_memory=False.\n",
      "  data[ref] = pd.read_csv(path)\n"
     ]
    },
    {
     "name": "stdout",
     "output_type": "stream",
     "text": [
      "Aachen\n"
     ]
    },
    {
     "name": "stderr",
     "output_type": "stream",
     "text": [
      "/home/ttissot/Bureau/Transport_networks/utils/preprocessing.py:129: DtypeWarning: Columns (7) have mixed types. Specify dtype option on import or set low_memory=False.\n",
      "  data[ref] = pd.read_csv(path)\n"
     ]
    },
    {
     "name": "stdout",
     "output_type": "stream",
     "text": [
      "Milano\n"
     ]
    },
    {
     "name": "stderr",
     "output_type": "stream",
     "text": [
      "/home/ttissot/Bureau/Transport_networks/utils/preprocessing.py:129: DtypeWarning: Columns (7) have mixed types. Specify dtype option on import or set low_memory=False.\n",
      "  data[ref] = pd.read_csv(path)\n",
      "/home/ttissot/Bureau/Transport_networks/utils/preprocessing.py:129: DtypeWarning: Columns (3,5) have mixed types. Specify dtype option on import or set low_memory=False.\n",
      "  data[ref] = pd.read_csv(path)\n"
     ]
    },
    {
     "name": "stdout",
     "output_type": "stream",
     "text": [
      "Schweizer_Reisen\n"
     ]
    },
    {
     "name": "stderr",
     "output_type": "stream",
     "text": [
      "/home/ttissot/Bureau/Transport_networks/utils/preprocessing.py:129: DtypeWarning: Columns (5) have mixed types. Specify dtype option on import or set low_memory=False.\n",
      "  data[ref] = pd.read_csv(path)\n"
     ]
    },
    {
     "name": "stdout",
     "output_type": "stream",
     "text": [
      "Aalen_Bopfingen\n"
     ]
    },
    {
     "name": "stderr",
     "output_type": "stream",
     "text": [
      "/home/ttissot/Bureau/Transport_networks/utils/preprocessing.py:129: DtypeWarning: Columns (5) have mixed types. Specify dtype option on import or set low_memory=False.\n",
      "  data[ref] = pd.read_csv(path)\n"
     ]
    },
    {
     "name": "stdout",
     "output_type": "stream",
     "text": [
      "Piemonte\n",
      "Lyon\n",
      "Marseille\n",
      "Toulon\n"
     ]
    }
   ],
   "source": [
    "for city in os.listdir(\"gtfs_data\"):\n",
    "    print(city)\n",
    "    data, graph, contextual_edges = pp.preprocess_provider(f\"gtfs_data/{city}\")\n",
    "    with open(f\"preprocessed_data/{city}.pkl\", \"wb\") as handle:\n",
    "        pkl.dump((data, graph, contextual_edges), handle)"
   ]
  },
  {
   "cell_type": "markdown",
   "id": "ee44aed5",
   "metadata": {},
   "source": [
    "## Generative synthesis of transport-like graphs\n",
    "\n",
    "### GraphVAE\n",
    "The objective is to enrich the dataset with synthetic transport networks that capture the topological patterns of real ones. To this end, the project explores deep generative models operating on graph adjacency matrices. The first stage implements a Variational Graph Autoencoder (VGAE) with a GCN-based encoder and an inner-product decoder, trained on Erdős–Rényi random graphs as a controlled proof of concept. The VAE learns a latent representation where each node is embedded into a Gaussian space; adjacency is reconstructed via σ(zzᵀ), and the training objective combines binary cross-entropy reconstruction loss with a KL divergence toward a standard normal prior.  "
   ]
  },
  {
   "cell_type": "code",
   "execution_count": null,
   "id": "09c8cee1",
   "metadata": {},
   "outputs": [
    {
     "name": "stdout",
     "output_type": "stream",
     "text": [
      "1028.8667907714844\n",
      "1012.5847854614258\n",
      "986.1924667358398\n",
      "962.7984466552734\n",
      "914.5387878417969\n",
      "927.5323715209961\n",
      "906.1050796508789\n",
      "899.3350601196289\n",
      "866.4687271118164\n",
      "857.5817413330078\n",
      "848.7939910888672\n",
      "831.2275848388672\n",
      "819.5922241210938\n",
      "813.8950729370117\n",
      "815.1714096069336\n",
      "797.1603546142578\n",
      "785.0302352905273\n",
      "774.8384094238281\n",
      "761.2522048950195\n",
      "764.9651031494141\n",
      "743.9743804931641\n",
      "744.3758773803711\n",
      "728.3412017822266\n",
      "732.9286270141602\n",
      "731.2053756713867\n",
      "716.2471008300781\n",
      "710.926399230957\n",
      "710.0619049072266\n",
      "699.8264999389648\n",
      "701.0708999633789\n"
     ]
    }
   ],
   "source": [
    "N = 10\n",
    "model = gm.GraphVAE(10, 6, 4)\n",
    "optimizer = optim.Adam(model.parameters(), lr=1e-3)\n",
    "for e in range(30):\n",
    "    tot_loss = 0\n",
    "    for b in range(10):\n",
    "        model.train()\n",
    "        optimizer.zero_grad()\n",
    "        myloss = torch.tensor(0)\n",
    "        for i in range(64):\n",
    "            adj, x = gm.generate_batched_graphs(1, N)\n",
    "            adj = adj.squeeze()\n",
    "            x = x.squeeze()\n",
    "            adj_recon, mu, logvar = model(x, adj)\n",
    "            loss = gm.loss_function(adj_recon, adj, mu, logvar)\n",
    "            myloss = myloss + loss\n",
    "        myloss.backward()\n",
    "        optimizer.step()\n",
    "        tot_loss += myloss.item()\n",
    "    print(tot_loss)"
   ]
  },
  {
   "cell_type": "code",
   "execution_count": 73,
   "id": "5885b0a6",
   "metadata": {},
   "outputs": [
    {
     "name": "stdout",
     "output_type": "stream",
     "text": [
      "tensor([[0.9484, 0.7693, 0.7000, 0.9053, 0.4828, 0.7120, 0.8879, 0.3280, 0.4115,\n",
      "         0.5533],\n",
      "        [0.7693, 0.8732, 0.4009, 0.5385, 0.8699, 0.6917, 0.7695, 0.2072, 0.2088,\n",
      "         0.7446],\n",
      "        [0.7000, 0.4009, 0.7653, 0.8423, 0.2584, 0.4902, 0.5166, 0.7590, 0.5040,\n",
      "         0.4327],\n",
      "        [0.9053, 0.5385, 0.8423, 0.9462, 0.2473, 0.5812, 0.7268, 0.7223, 0.4848,\n",
      "         0.4568],\n",
      "        [0.4828, 0.8699, 0.2584, 0.2473, 0.9332, 0.6050, 0.5833, 0.2079, 0.2301,\n",
      "         0.7829],\n",
      "        [0.7120, 0.6917, 0.4902, 0.5812, 0.6050, 0.7221, 0.7647, 0.2734, 0.1459,\n",
      "         0.6093],\n",
      "        [0.8879, 0.7695, 0.5166, 0.7268, 0.5833, 0.7647, 0.8867, 0.1788, 0.2324,\n",
      "         0.5862],\n",
      "        [0.3280, 0.2072, 0.7590, 0.7223, 0.2079, 0.2734, 0.1788, 0.9125, 0.7395,\n",
      "         0.3632],\n",
      "        [0.4115, 0.2088, 0.5040, 0.4848, 0.2301, 0.1459, 0.2324, 0.7395, 0.9933,\n",
      "         0.2179],\n",
      "        [0.5533, 0.7446, 0.4327, 0.4568, 0.7829, 0.6093, 0.5862, 0.3632, 0.2179,\n",
      "         0.6838]], grad_fn=<SigmoidBackward0>)\n"
     ]
    }
   ],
   "source": [
    "print(adj_recon)"
   ]
  },
  {
   "cell_type": "markdown",
   "id": "9f6713ab",
   "metadata": {},
   "source": [
    "### GraphVAE-GAN\n",
    "To increase generative realism, a second stage introduces **adversarial training**: a **GraphGenerator** (MLP) produces synthetic adjacency matrices from random latent vectors, while a **GraphDiscriminator** attempts to distinguish real from generated graphs. Both networks are trained jointly in a minimax game, optionally coupled with the VAE to form a **GraphVAE–GAN hybrid**. The discriminator uses label smoothing to prevent overconfidence, and the generator (or VAE) is regularized with both adversarial and reconstruction objectives. This setup allows the system to learn richer graph priors, improving the diversity and structural coherence of synthetic transport networks that can later augment the real GTFS-based corpus."
   ]
  },
  {
   "cell_type": "code",
   "execution_count": null,
   "id": "2c5d62ed",
   "metadata": {},
   "outputs": [],
   "source": [
    "model, discriminator = gm.trainGraphGAN(10, 6, 4, 100, 256, 30, 2, False)"
   ]
  },
  {
   "cell_type": "code",
   "execution_count": null,
   "id": "70b19b79",
   "metadata": {},
   "outputs": [],
   "source": [
    "z = torch.randn(1, 4)\n",
    "adj_fake = model(z)\n",
    "torch.where(adj_fake < 0.01, 0, 1)"
   ]
  },
  {
   "cell_type": "code",
   "execution_count": null,
   "id": "675a8cb6",
   "metadata": {},
   "outputs": [],
   "source": [
    "adj_fake"
   ]
  },
  {
   "cell_type": "code",
   "execution_count": null,
   "id": "c365a72c",
   "metadata": {},
   "outputs": [],
   "source": [
    "with torch.no_grad():\n",
    "    p = discriminator(adj_fake)\n",
    "p"
   ]
  }
 ],
 "metadata": {
  "kernelspec": {
   "display_name": "Python 3",
   "language": "python",
   "name": "python3"
  },
  "language_info": {
   "codemirror_mode": {
    "name": "ipython",
    "version": 3
   },
   "file_extension": ".py",
   "mimetype": "text/x-python",
   "name": "python",
   "nbconvert_exporter": "python",
   "pygments_lexer": "ipython3",
   "version": "3.10.12"
  }
 },
 "nbformat": 4,
 "nbformat_minor": 5
}
